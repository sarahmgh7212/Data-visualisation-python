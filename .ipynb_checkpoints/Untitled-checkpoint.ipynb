{
 "cells": [
  {
   "cell_type": "markdown",
   "metadata": {},
   "source": [
    "# Customer Types\n",
    "There is a range of amounts that customers spend on FoodWheel. Let’s investigate and aim to answer our final question:\n",
    "\n",
    "-How much has each customer on FoodWheel spent over the past six months? What can this tell us about the average FoodWheel customer?\n",
    "\n",
    "A great way to answer this question is to create a histogram of the amount spent by each customer over the past six months."
   ]
  },
  {
   "cell_type": "markdown",
   "metadata": {},
   "source": [
    "Start by grouping orders by customer_id and calculating the sum of price spent by each customer. Save your results to customer_amount."
   ]
  },
  {
   "cell_type": "code",
   "execution_count": null,
   "metadata": {},
   "outputs": [],
   "source": [
    "from matplotlib import pyplot as plt\n",
    "import pandas as pd\n",
    "\n",
    "#table schema is like: customer_id,price\n",
    "\n",
    "orders = pd.read_csv('orders.csv')\n",
    "\n",
    "customer_amount = orders.groupby('customer_id').price.sum().reset_index()\n",
    "print customer_amount.head()"
   ]
  },
  {
   "cell_type": "code",
   "execution_count": null,
   "metadata": {},
   "outputs": [],
   "source": [
    "plt.hist(customer_amount.price.values,\n",
    "        range=(0, 200), bins=40)\n",
    "plt.xlabel('Total Spent')\n",
    "plt.ylabel(\"Number of Customers\")\n",
    "plt.title('Customer Expenditure Over 6 Months')\n",
    "\n",
    "plt.show()"
   ]
  }
 ],
 "metadata": {
  "kernelspec": {
   "display_name": "Python 3",
   "language": "python",
   "name": "python3"
  },
  "language_info": {
   "codemirror_mode": {
    "name": "ipython",
    "version": 3
   },
   "file_extension": ".py",
   "mimetype": "text/x-python",
   "name": "python",
   "nbconvert_exporter": "python",
   "pygments_lexer": "ipython3",
   "version": "3.7.7"
  }
 },
 "nbformat": 4,
 "nbformat_minor": 4
}
